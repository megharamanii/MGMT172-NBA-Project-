{
 "cells": [
  {
   "cell_type": "markdown",
   "id": "6676eec5",
   "metadata": {},
   "source": []
  },
  {
   "cell_type": "markdown",
   "id": "3ab643ad",
   "metadata": {},
   "source": [
    "MGMT 172: Data and Programming \n",
    "\n",
    "Team Name: Megha Ramani, Ryan Soto, David Pena, Evan \n",
    "\n",
    "Project Topic: NBA Player Performance and Team Success "
   ]
  },
  {
   "cell_type": "markdown",
   "id": "4122ae24",
   "metadata": {},
   "source": []
  },
  {
   "cell_type": "code",
   "execution_count": null,
   "id": "68ad2b6a",
   "metadata": {},
   "outputs": [],
   "source": [
    "import pandas as pd\n",
    "import seaborn as sns\n",
    "import matplotlib.pyplot as plt\n",
    "\n",
    "# if file is in the same directory\n",
    "df = pd.read_csv('nba_2025_per_game.csv')\n",
    "\n",
    "\n",
    "df.head()  # display first few rows"
   ]
  }
 ],
 "metadata": {
  "kernelspec": {
   "display_name": "Python 3",
   "language": "python",
   "name": "python3"
  },
  "language_info": {
   "codemirror_mode": {
    "name": "ipython",
    "version": 3
   },
   "file_extension": ".py",
   "mimetype": "text/x-python",
   "name": "python",
   "nbconvert_exporter": "python",
   "pygments_lexer": "ipython3",
   "version": "3.12.1"
  }
 },
 "nbformat": 4,
 "nbformat_minor": 5
}
